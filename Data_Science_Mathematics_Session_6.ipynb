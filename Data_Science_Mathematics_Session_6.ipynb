{
 "cells": [
  {
   "cell_type": "markdown",
   "metadata": {},
   "source": [
    "# Data Science Mathematics\n",
    "# Principal Component Analysis\n",
    "# In-Class Activity"
   ]
  },
  {
   "cell_type": "markdown",
   "metadata": {},
   "source": [
    "Refer to your in-class handout for instructions.  You are going to do most of the coding yourself here.\n",
    "\n",
    "Read about this library here:\n",
    "https://scikit-learn.org/stable/modules/generated/sklearn.decomposition.PCA.html\n",
    "\n",
    "First, let's import our relevant libraries."
   ]
  },
  {
   "cell_type": "code",
   "execution_count": 44,
   "metadata": {
    "collapsed": true
   },
   "outputs": [],
   "source": [
    "import numpy as np\n",
    "from sklearn.decomposition import PCA"
   ]
  },
  {
   "cell_type": "markdown",
   "metadata": {},
   "source": [
    "First, we need to instantiate our data set."
   ]
  },
  {
   "cell_type": "code",
   "execution_count": 45,
   "metadata": {
    "collapsed": true
   },
   "outputs": [],
   "source": [
    "data = np.array([[5.1,3.5,1.4,0.2],\n",
    "[4.9,3.0,1.4,0.2],\n",
    "[4.7,3.2,1.3,0.2],\n",
    "[4.6,3.1,1.5,0.2],\n",
    "[5.0,3.6,1.4,0.2],\n",
    "[5.4,3.9,1.7,0.4],\n",
    "[4.6,3.4,1.4,0.3],\n",
    "[5.0,3.4,1.5,0.2],\n",
    "[4.4,2.9,1.4,0.2],\n",
    "[4.9,3.1,1.5,0.1],\n",
    "[5.4,3.7,1.5,0.2],\n",
    "[4.8,3.4,1.6,0.2],\n",
    "[4.8,3.0,1.4,0.1],\n",
    "[4.3,3.0,1.1,0.1],\n",
    "[5.8,4.0,1.2,0.2],\n",
    "[5.7,4.4,1.5,0.4],\n",
    "[5.4,3.9,1.3,0.4],\n",
    "[5.1,3.5,1.4,0.3],\n",
    "[5.7,3.8,1.7,0.3],\n",
    "[5.1,3.8,1.5,0.3]])"
   ]
  },
  {
   "cell_type": "markdown",
   "metadata": {},
   "source": [
    "Now, in the cell below, calculate your covariance matrix for the above data set:\n",
    "> c = np.cov(x)"
   ]
  },
  {
   "cell_type": "code",
   "execution_count": 46,
   "metadata": {
    "collapsed": true
   },
   "outputs": [],
   "source": [
    "c = np.cov(data)"
   ]
  },
  {
   "cell_type": "markdown",
   "metadata": {},
   "source": [
    "Print the covariance matrix."
   ]
  },
  {
   "cell_type": "code",
   "execution_count": 47,
   "metadata": {},
   "outputs": [
    {
     "output_type": "execute_result",
     "data": {
      "text/plain": "array([[4.75      , 4.42166667, 4.35333333, 4.16      , 4.69666667,\n        4.86      , 4.215     , 4.595     , 3.965     , 4.49333333,\n        5.03      , 4.38666667, 4.415     , 4.105     , 5.58      ,\n        5.35      , 5.01333333, 4.67166667, 5.16166667, 4.72833333],\n       [4.42166667, 4.14916667, 4.055     , 3.885     , 4.35833333,\n        4.515     , 3.9075    , 4.28416667, 3.7075    , 4.21      ,\n        4.68333333, 4.08333333, 4.1375    , 3.81416667, 5.18      ,\n        4.93666667, 4.645     , 4.34916667, 4.81916667, 4.37916667],\n       [4.35333333, 4.055     , 3.99      , 3.81333333, 4.30333333,\n        4.45333333, 3.86166667, 4.21166667, 3.635     , 4.12      ,\n        4.61      , 4.02      , 4.04833333, 3.76166667, 5.11333333,\n        4.9       , 4.59333333, 4.28166667, 4.73166667, 4.33166667],\n       [4.16      , 3.885     , 3.81333333, 3.65666667, 4.11      ,\n        4.25666667, 3.68833333, 4.03166667, 3.485     , 3.95333333,\n        4.40666667, 3.85333333, 3.88166667, 3.59166667, 4.86666667,\n        4.66333333, 4.37      , 4.08833333, 4.52833333, 4.135     ],\n       [4.69666667, 4.35833333, 4.30333333, 4.11      , 4.65      ,\n        4.81      , 4.175     , 4.54166667, 3.915     , 4.43333333,\n        4.97333333, 4.34      , 4.355     , 4.06166667, 5.52      ,\n        5.30666667, 4.96333333, 4.61833333, 5.09833333, 4.685     ],\n       [4.86      , 4.515     , 4.45333333, 4.25666667, 4.81      ,\n        4.97666667, 4.31833333, 4.70166667, 4.055     , 4.59333333,\n        5.14666667, 4.49333333, 4.51166667, 4.20166667, 5.70666667,\n        5.48333333, 5.13      , 4.77833333, 5.27833333, 4.845     ],\n       [4.215     , 3.9075    , 3.86166667, 3.68833333, 4.175     ,\n        4.31833333, 3.74916667, 4.07583333, 3.5125    , 3.97666667,\n        4.46333333, 3.89666667, 3.90583333, 3.64583333, 4.95333333,\n        4.76666667, 4.455     , 4.14416667, 4.57416667, 4.2075    ],\n       [4.595     , 4.28416667, 4.21166667, 4.03166667, 4.54166667,\n        4.70166667, 4.07583333, 4.44916667, 3.8425    , 4.35666667,\n        4.86666667, 4.25      , 4.27916667, 3.96916667, 5.38666667,\n        5.16333333, 4.83833333, 4.5175    , 4.9975    , 4.57083333],\n       [3.965     , 3.7075    , 3.635     , 3.485     , 3.915     ,\n        4.055     , 3.5125    , 3.8425    , 3.3225    , 3.77      ,\n        4.2       , 3.67      , 3.7025    , 3.4225    , 4.64      ,\n        4.44      , 4.165     , 3.8975    , 4.3175    , 3.9375    ],\n       [4.49333333, 4.21      , 4.12      , 3.95333333, 4.43333333,\n        4.59333333, 3.97666667, 4.35666667, 3.77      , 4.28      ,\n        4.76      , 4.16      , 4.20333333, 3.87666667, 5.25333333,\n        5.02      , 4.71333333, 4.41666667, 4.89666667, 4.45666667],\n       [5.03      , 4.68333333, 4.61      , 4.40666667, 4.97333333,\n        5.14666667, 4.46333333, 4.86666667, 4.2       , 4.76      ,\n        5.32666667, 4.64666667, 4.67666667, 4.34666667, 5.90666667,\n        5.66333333, 5.30666667, 4.94666667, 5.46666667, 5.00666667],\n       [4.38666667, 4.08333333, 4.02      , 3.85333333, 4.34      ,\n        4.49333333, 3.89666667, 4.25      , 3.67      , 4.16      ,\n        4.64666667, 4.06666667, 4.08333333, 3.79      , 5.13333333,\n        4.93333333, 4.61333333, 4.31      , 4.77      , 4.37      ],\n       [4.415     , 4.1375    , 4.04833333, 3.88166667, 4.355     ,\n        4.51166667, 3.90583333, 4.27916667, 3.7025    , 4.20333333,\n        4.67666667, 4.08333333, 4.12916667, 3.80916667, 5.16666667,\n        4.93333333, 4.635     , 4.34083333, 4.81083333, 4.3775    ],\n       [4.105     , 3.81416667, 3.76166667, 3.59166667, 4.06166667,\n        4.20166667, 3.64583333, 3.96916667, 3.4225    , 3.87666667,\n        4.34666667, 3.79      , 3.80916667, 3.54916667, 4.82666667,\n        4.63333333, 4.33833333, 4.0375    , 4.4575    , 4.09083333],\n       [5.58      , 5.18      , 5.11333333, 4.86666667, 5.52      ,\n        5.70666667, 4.95333333, 5.38666667, 4.64      , 5.25333333,\n        5.90666667, 5.13333333, 5.16666667, 4.82666667, 6.58666667,\n        6.31333333, 5.92      , 5.49333333, 6.05333333, 5.56      ],\n       [5.35      , 4.93666667, 4.9       , 4.66333333, 5.30666667,\n        5.48333333, 4.76666667, 5.16333333, 4.44      , 5.02      ,\n        5.66333333, 4.93333333, 4.93333333, 4.63333333, 6.31333333,\n        6.08666667, 5.68333333, 5.26333333, 5.79333333, 5.35333333],\n       [5.01333333, 4.645     , 4.59333333, 4.37      , 4.96333333,\n        5.13      , 4.455     , 4.83833333, 4.165     , 4.71333333,\n        5.30666667, 4.61333333, 4.635     , 4.33833333, 5.92      ,\n        5.68333333, 5.32333333, 4.935     , 5.435     , 5.00166667],\n       [4.67166667, 4.34916667, 4.28166667, 4.08833333, 4.61833333,\n        4.77833333, 4.14416667, 4.5175    , 3.8975    , 4.41666667,\n        4.94666667, 4.31      , 4.34083333, 4.0375    , 5.49333333,\n        5.26333333, 4.935     , 4.59583333, 5.07583333, 4.64916667],\n       [5.16166667, 4.81916667, 4.73166667, 4.52833333, 5.09833333,\n        5.27833333, 4.57416667, 4.9975    , 4.3175    , 4.89666667,\n        5.46666667, 4.77      , 4.81083333, 4.4575    , 6.05333333,\n        5.79333333, 5.435     , 5.07583333, 5.61583333, 5.12916667],\n       [4.72833333, 4.37916667, 4.33166667, 4.135     , 4.685     ,\n        4.845     , 4.2075    , 4.57083333, 3.9375    , 4.45666667,\n        5.00666667, 4.37      , 4.3775    , 4.09083333, 5.56      ,\n        5.35333333, 5.00166667, 4.64916667, 5.12916667, 4.7225    ]])"
     },
     "metadata": {},
     "execution_count": 47
    }
   ],
   "source": [
    "c"
   ]
  },
  {
   "cell_type": "markdown",
   "metadata": {},
   "source": [
    "Now, in the cell below, calculate the eigenvectors and eigenvalues of the covariance matrix."
   ]
  },
  {
   "cell_type": "code",
   "execution_count": 48,
   "metadata": {},
   "outputs": [],
   "source": [
    "eigen_vals, eigen_vectors = np.linalg.eig(c)"
   ]
  },
  {
   "cell_type": "markdown",
   "metadata": {},
   "source": [
    "Now calculate the principal components (reduce to 2 dimensions).  First, you need to instantiate your PCA object."
   ]
  },
  {
   "cell_type": "code",
   "execution_count": 49,
   "metadata": {
    "collapsed": true
   },
   "outputs": [],
   "source": [
    "pca = PCA(n_components=2)"
   ]
  },
  {
   "cell_type": "markdown",
   "metadata": {},
   "source": [
    "Now, in the cell below, train your model on your dataset:\n",
    "> pca.fit(X)"
   ]
  },
  {
   "cell_type": "code",
   "execution_count": 50,
   "metadata": {},
   "outputs": [
    {
     "output_type": "execute_result",
     "data": {
      "text/plain": "PCA(n_components=2)"
     },
     "metadata": {},
     "execution_count": 50
    }
   ],
   "source": [
    "pca.fit(data)"
   ]
  },
  {
   "cell_type": "markdown",
   "metadata": {},
   "source": [
    "The following commands can be used to get your explained variance ratios (percentage of variance explained by each of the selected components) and your dimensionally-reduced components.\n",
    "\n",
    "Print these values in the cells below."
   ]
  },
  {
   "cell_type": "code",
   "execution_count": 51,
   "metadata": {
    "tags": []
   },
   "outputs": [
    {
     "output_type": "stream",
     "name": "stdout",
     "text": "[0.87954353 0.06300167]\n"
    }
   ],
   "source": [
    "print(pca.explained_variance_ratio_)"
   ]
  },
  {
   "cell_type": "code",
   "execution_count": 52,
   "metadata": {
    "tags": []
   },
   "outputs": [
    {
     "output_type": "stream",
     "name": "stdout",
     "text": "[[ 0.71816179  0.68211748  0.08126075  0.1111579 ]\n [ 0.61745716 -0.65996887  0.37215116 -0.21140307]]\n"
    }
   ],
   "source": [
    "print(pca.components_)"
   ]
  },
  {
   "source": [
    "c)\tProject the dataset into the appropriate principle component space."
   ],
   "cell_type": "markdown",
   "metadata": {}
  },
  {
   "cell_type": "code",
   "execution_count": 53,
   "metadata": {},
   "outputs": [],
   "source": [
    "# to project the dataset into the appropriate component space,\n",
    "# as far as I understand, we use the transform function\n",
    "# (provided we've already called the \"fix\" function)\n",
    "data_new = pca.transform(data)"
   ]
  },
  {
   "source": [
    "d)\tAssuming the class of each record is known, explain how this reduced data set could be used to derive a supervised learning algorithm based on clustering."
   ],
   "cell_type": "markdown",
   "metadata": {}
  },
  {
   "cell_type": "code",
   "execution_count": 54,
   "metadata": {},
   "outputs": [],
   "source": [
    "# as I understand it, this new data set is projected onto the principle component space, which \n",
    "# allows us to think of it as varying in fewer dimensions, but in a way that is the most meaningful\n",
    "# dimensions.  We can then apply clustering or other algorithms which are efficient, timely, and \n",
    "# informative in 2d space - and by implication, we can ignore the dimensions that are not useful "
   ]
  },
  {
   "cell_type": "markdown",
   "metadata": {},
   "source": [
    "Bonus: Figure out how to plot your principal components as a scatter plot:\n",
    "\n",
    "https://matplotlib.org/3.1.1/api/_as_gen/matplotlib.pyplot.scatter.html"
   ]
  },
  {
   "cell_type": "code",
   "execution_count": 55,
   "metadata": {
    "collapsed": true
   },
   "outputs": [],
   "source": [
    "# first import the plot lib\n",
    "import matplotlib.pyplot as plt"
   ]
  },
  {
   "cell_type": "code",
   "execution_count": 56,
   "metadata": {
    "tags": []
   },
   "outputs": [
    {
     "output_type": "display_data",
     "data": {
      "text/plain": "&lt;Figure size 432x288 with 1 Axes&gt;",
      "image/svg+xml": "<?xml version=\"1.0\" encoding=\"utf-8\" standalone=\"no\"?>\r\n<!DOCTYPE svg PUBLIC \"-//W3C//DTD SVG 1.1//EN\"\r\n  \"http://www.w3.org/Graphics/SVG/1.1/DTD/svg11.dtd\">\r\n<!-- Created with matplotlib (https://matplotlib.org/) -->\r\n<svg height=\"270.964221pt\" version=\"1.1\" viewBox=\"0 0 394.160937 270.964221\" width=\"394.160937pt\" xmlns=\"http://www.w3.org/2000/svg\" xmlns:xlink=\"http://www.w3.org/1999/xlink\">\r\n <metadata>\r\n  <rdf:RDF xmlns:cc=\"http://creativecommons.org/ns#\" xmlns:dc=\"http://purl.org/dc/elements/1.1/\" xmlns:rdf=\"http://www.w3.org/1999/02/22-rdf-syntax-ns#\">\r\n   <cc:Work>\r\n    <dc:type rdf:resource=\"http://purl.org/dc/dcmitype/StillImage\"/>\r\n    <dc:date>2020-10-05T22:02:22.844233</dc:date>\r\n    <dc:format>image/svg+xml</dc:format>\r\n    <dc:creator>\r\n     <cc:Agent>\r\n      <dc:title>Matplotlib v3.3.1, https://matplotlib.org/</dc:title>\r\n     </cc:Agent>\r\n    </dc:creator>\r\n   </cc:Work>\r\n  </rdf:RDF>\r\n </metadata>\r\n <defs>\r\n  <style type=\"text/css\">*{stroke-linecap:butt;stroke-linejoin:round;}</style>\r\n </defs>\r\n <g id=\"figure_1\">\r\n  <g id=\"patch_1\">\r\n   <path d=\"M 0 270.964221 \r\nL 394.160937 270.964221 \r\nL 394.160937 0 \r\nL 0 0 \r\nz\r\n\" style=\"fill:none;\"/>\r\n  </g>\r\n  <g id=\"axes_1\">\r\n   <g id=\"patch_2\">\r\n    <path d=\"M 52.160938 233.407971 \r\nL 386.960938 233.407971 \r\nL 386.960938 15.967971 \r\nL 52.160938 15.967971 \r\nz\r\n\" style=\"fill:#ffffff;\"/>\r\n   </g>\r\n   <g id=\"PathCollection_1\">\r\n    <defs>\r\n     <path d=\"M 0 3 \r\nC 0.795609 3 1.55874 2.683901 2.12132 2.12132 \r\nC 2.683901 1.55874 3 0.795609 3 0 \r\nC 3 -0.795609 2.683901 -1.55874 2.12132 -2.12132 \r\nC 1.55874 -2.683901 0.795609 -3 0 -3 \r\nC -0.795609 -3 -1.55874 -2.683901 -2.12132 -2.12132 \r\nC -2.683901 -1.55874 -3 -0.795609 -3 0 \r\nC -3 0.795609 -2.683901 1.55874 -2.12132 2.12132 \r\nC -1.55874 2.683901 -0.795609 3 0 3 \r\nz\r\n\" id=\"m1ca922fe12\" style=\"stroke:#1f77b4;\"/>\r\n    </defs>\r\n    <g clip-path=\"url(#p7bc69b75e0)\">\r\n     <use style=\"fill:#1f77b4;stroke:#1f77b4;\" x=\"210.241986\" xlink:href=\"#m1ca922fe12\" y=\"118.117408\"/>\r\n     <use style=\"fill:#1f77b4;stroke:#1f77b4;\" x=\"137.436122\" xlink:href=\"#m1ca922fe12\" y=\"86.315\"/>\r\n     <use style=\"fill:#1f77b4;stroke:#1f77b4;\" x=\"135.132649\" xlink:href=\"#m1ca922fe12\" y=\"131.394373\"/>\r\n     <use style=\"fill:#1f77b4;stroke:#1f77b4;\" x=\"116.540184\" xlink:href=\"#m1ca922fe12\" y=\"119.27649\"/>\r\n     <use style=\"fill:#1f77b4;stroke:#1f77b4;\" x=\"209.700561\" xlink:href=\"#m1ca922fe12\" y=\"137.791306\"/>\r\n     <use style=\"fill:#1f77b4;stroke:#1f77b4;\" x=\"290.590572\" xlink:href=\"#m1ca922fe12\" y=\"119.562913\"/>\r\n     <use style=\"fill:#1f77b4;stroke:#1f77b4;\" x=\"147.727706\" xlink:href=\"#m1ca922fe12\" y=\"158.756872\"/>\r\n     <use style=\"fill:#1f77b4;stroke:#1f77b4;\" x=\"190.428896\" xlink:href=\"#m1ca922fe12\" y=\"111.7311\"/>\r\n     <use style=\"fill:#1f77b4;stroke:#1f77b4;\" x=\"73.25213\" xlink:href=\"#m1ca922fe12\" y=\"123.698603\"/>\r\n     <use style=\"fill:#1f77b4;stroke:#1f77b4;\" x=\"147.23318\" xlink:href=\"#m1ca922fe12\" y=\"87.491877\"/>\r\n     <use style=\"fill:#1f77b4;stroke:#1f77b4;\" x=\"264.317609\" xlink:href=\"#m1ca922fe12\" y=\"104.185711\"/>\r\n     <use style=\"fill:#1f77b4;stroke:#1f77b4;\" x=\"170.074382\" xlink:href=\"#m1ca922fe12\" y=\"125.018692\"/>\r\n     <use style=\"fill:#1f77b4;stroke:#1f77b4;\" x=\"124.978841\" xlink:href=\"#m1ca922fe12\" y=\"92.568722\"/>\r\n     <use style=\"fill:#1f77b4;stroke:#1f77b4;\" x=\"67.379119\" xlink:href=\"#m1ca922fe12\" y=\"157.311367\"/>\r\n     <use style=\"fill:#1f77b4;stroke:#1f77b4;\" x=\"334.544447\" xlink:href=\"#m1ca922fe12\" y=\"113.83505\"/>\r\n     <use style=\"fill:#1f77b4;stroke:#1f77b4;\" x=\"371.742756\" xlink:href=\"#m1ca922fe12\" y=\"153.318889\"/>\r\n     <use style=\"fill:#1f77b4;stroke:#1f77b4;\" x=\"285.708074\" xlink:href=\"#m1ca922fe12\" y=\"142.489217\"/>\r\n     <use style=\"fill:#1f77b4;stroke:#1f77b4;\" x=\"211.911698\" xlink:href=\"#m1ca922fe12\" y=\"121.373269\"/>\r\n     <use style=\"fill:#1f77b4;stroke:#1f77b4;\" x=\"311.037423\" xlink:href=\"#m1ca922fe12\" y=\"77.613985\"/>\r\n     <use style=\"fill:#1f77b4;stroke:#1f77b4;\" x=\"243.870757\" xlink:href=\"#m1ca922fe12\" y=\"146.134639\"/>\r\n    </g>\r\n   </g>\r\n   <g id=\"patch_3\">\r\n    <path clip-path=\"url(#p7bc69b75e0)\" d=\"M 310.580701 25.851608 \r\nL 310.215042 26.478612 \r\nL 310.117114 26.361829 \r\nL 202.241419 121.457665 \r\nL 202.14349 121.340883 \r\nL 310.019185 26.245047 \r\nL 309.921257 26.128264 \r\nz\r\n\" style=\"fill:#1f77b4;stroke:#000000;stroke-linejoin:miter;\"/>\r\n   </g>\r\n   <g id=\"patch_4\">\r\n    <path clip-path=\"url(#p7bc69b75e0)\" d=\"M 305.139693 223.524335 \r\nL 304.497231 223.208452 \r\nL 304.601679 223.097767 \r\nL 202.140231 121.454617 \r\nL 202.244679 121.343932 \r\nL 304.706127 222.987082 \r\nL 304.810575 222.876397 \r\nz\r\n\" style=\"fill:#1f77b4;stroke:#000000;stroke-linejoin:miter;\"/>\r\n   </g>\r\n   <g id=\"patch_5\">\r\n    <path clip-path=\"url(#p7bc69b75e0)\" d=\"M 214.5429 63.406414 \r\nL 214.618831 64.132798 \r\nL 214.472078 64.099942 \r\nL 202.265831 121.415702 \r\nL 202.119078 121.382847 \r\nL 214.325324 64.067087 \r\nL 214.178571 64.034232 \r\nz\r\n\" style=\"fill:#1f77b4;stroke:#000000;stroke-linejoin:miter;\"/>\r\n   </g>\r\n   <g id=\"patch_6\">\r\n    <path clip-path=\"url(#p7bc69b75e0)\" d=\"M 219.204161 154.571316 \r\nL 218.690149 154.065406 \r\nL 218.823101 153.99373 \r\nL 202.125979 121.435112 \r\nL 202.258931 121.363436 \r\nL 218.956053 153.922053 \r\nL 219.089005 153.850377 \r\nz\r\n\" style=\"fill:#1f77b4;stroke:#000000;stroke-linejoin:miter;\"/>\r\n   </g>\r\n   <g id=\"matplotlib.axis_1\">\r\n    <g id=\"xtick_1\">\r\n     <g id=\"line2d_1\">\r\n      <path clip-path=\"url(#p7bc69b75e0)\" d=\"M 89.534315 233.407971 \r\nL 89.534315 15.967971 \r\n\" style=\"fill:none;stroke:#b0b0b0;stroke-linecap:square;stroke-width:0.8;\"/>\r\n     </g>\r\n     <g id=\"line2d_2\">\r\n      <defs>\r\n       <path d=\"M 0 0 \r\nL 0 3.5 \r\n\" id=\"m3898de27bd\" style=\"stroke:#000000;stroke-width:0.8;\"/>\r\n      </defs>\r\n      <g>\r\n       <use style=\"stroke:#000000;stroke-width:0.8;\" x=\"89.534315\" xlink:href=\"#m3898de27bd\" y=\"233.407971\"/>\r\n      </g>\r\n     </g>\r\n     <g id=\"text_1\">\r\n      <!-- −0.75 -->\r\n      <g transform=\"translate(74.211659 248.006409)scale(0.1 -0.1)\">\r\n       <defs>\r\n        <path d=\"M 10.59375 35.5 \r\nL 73.1875 35.5 \r\nL 73.1875 27.203125 \r\nL 10.59375 27.203125 \r\nz\r\n\" id=\"DejaVuSans-8722\"/>\r\n        <path d=\"M 31.78125 66.40625 \r\nQ 24.171875 66.40625 20.328125 58.90625 \r\nQ 16.5 51.421875 16.5 36.375 \r\nQ 16.5 21.390625 20.328125 13.890625 \r\nQ 24.171875 6.390625 31.78125 6.390625 \r\nQ 39.453125 6.390625 43.28125 13.890625 \r\nQ 47.125 21.390625 47.125 36.375 \r\nQ 47.125 51.421875 43.28125 58.90625 \r\nQ 39.453125 66.40625 31.78125 66.40625 \r\nz\r\nM 31.78125 74.21875 \r\nQ 44.046875 74.21875 50.515625 64.515625 \r\nQ 56.984375 54.828125 56.984375 36.375 \r\nQ 56.984375 17.96875 50.515625 8.265625 \r\nQ 44.046875 -1.421875 31.78125 -1.421875 \r\nQ 19.53125 -1.421875 13.0625 8.265625 \r\nQ 6.59375 17.96875 6.59375 36.375 \r\nQ 6.59375 54.828125 13.0625 64.515625 \r\nQ 19.53125 74.21875 31.78125 74.21875 \r\nz\r\n\" id=\"DejaVuSans-48\"/>\r\n        <path d=\"M 10.6875 12.40625 \r\nL 21 12.40625 \r\nL 21 0 \r\nL 10.6875 0 \r\nz\r\n\" id=\"DejaVuSans-46\"/>\r\n        <path d=\"M 8.203125 72.90625 \r\nL 55.078125 72.90625 \r\nL 55.078125 68.703125 \r\nL 28.609375 0 \r\nL 18.3125 0 \r\nL 43.21875 64.59375 \r\nL 8.203125 64.59375 \r\nz\r\n\" id=\"DejaVuSans-55\"/>\r\n        <path d=\"M 10.796875 72.90625 \r\nL 49.515625 72.90625 \r\nL 49.515625 64.59375 \r\nL 19.828125 64.59375 \r\nL 19.828125 46.734375 \r\nQ 21.96875 47.46875 24.109375 47.828125 \r\nQ 26.265625 48.1875 28.421875 48.1875 \r\nQ 40.625 48.1875 47.75 41.5 \r\nQ 54.890625 34.8125 54.890625 23.390625 \r\nQ 54.890625 11.625 47.5625 5.09375 \r\nQ 40.234375 -1.421875 26.90625 -1.421875 \r\nQ 22.3125 -1.421875 17.546875 -0.640625 \r\nQ 12.796875 0.140625 7.71875 1.703125 \r\nL 7.71875 11.625 \r\nQ 12.109375 9.234375 16.796875 8.0625 \r\nQ 21.484375 6.890625 26.703125 6.890625 \r\nQ 35.15625 6.890625 40.078125 11.328125 \r\nQ 45.015625 15.765625 45.015625 23.390625 \r\nQ 45.015625 31 40.078125 35.4375 \r\nQ 35.15625 39.890625 26.703125 39.890625 \r\nQ 22.75 39.890625 18.8125 39.015625 \r\nQ 14.890625 38.140625 10.796875 36.28125 \r\nz\r\n\" id=\"DejaVuSans-53\"/>\r\n       </defs>\r\n       <use xlink:href=\"#DejaVuSans-8722\"/>\r\n       <use x=\"83.789062\" xlink:href=\"#DejaVuSans-48\"/>\r\n       <use x=\"147.412109\" xlink:href=\"#DejaVuSans-46\"/>\r\n       <use x=\"179.199219\" xlink:href=\"#DejaVuSans-55\"/>\r\n       <use x=\"242.822266\" xlink:href=\"#DejaVuSans-53\"/>\r\n      </g>\r\n     </g>\r\n    </g>\r\n    <g id=\"xtick_2\">\r\n     <g id=\"line2d_3\">\r\n      <path clip-path=\"url(#p7bc69b75e0)\" d=\"M 127.087028 233.407971 \r\nL 127.087028 15.967971 \r\n\" style=\"fill:none;stroke:#b0b0b0;stroke-linecap:square;stroke-width:0.8;\"/>\r\n     </g>\r\n     <g id=\"line2d_4\">\r\n      <g>\r\n       <use style=\"stroke:#000000;stroke-width:0.8;\" x=\"127.087028\" xlink:href=\"#m3898de27bd\" y=\"233.407971\"/>\r\n      </g>\r\n     </g>\r\n     <g id=\"text_2\">\r\n      <!-- −0.50 -->\r\n      <g transform=\"translate(111.764372 248.006409)scale(0.1 -0.1)\">\r\n       <use xlink:href=\"#DejaVuSans-8722\"/>\r\n       <use x=\"83.789062\" xlink:href=\"#DejaVuSans-48\"/>\r\n       <use x=\"147.412109\" xlink:href=\"#DejaVuSans-46\"/>\r\n       <use x=\"179.199219\" xlink:href=\"#DejaVuSans-53\"/>\r\n       <use x=\"242.822266\" xlink:href=\"#DejaVuSans-48\"/>\r\n      </g>\r\n     </g>\r\n    </g>\r\n    <g id=\"xtick_3\">\r\n     <g id=\"line2d_5\">\r\n      <path clip-path=\"url(#p7bc69b75e0)\" d=\"M 164.639741 233.407971 \r\nL 164.639741 15.967971 \r\n\" style=\"fill:none;stroke:#b0b0b0;stroke-linecap:square;stroke-width:0.8;\"/>\r\n     </g>\r\n     <g id=\"line2d_6\">\r\n      <g>\r\n       <use style=\"stroke:#000000;stroke-width:0.8;\" x=\"164.639741\" xlink:href=\"#m3898de27bd\" y=\"233.407971\"/>\r\n      </g>\r\n     </g>\r\n     <g id=\"text_3\">\r\n      <!-- −0.25 -->\r\n      <g transform=\"translate(149.317085 248.006409)scale(0.1 -0.1)\">\r\n       <defs>\r\n        <path d=\"M 19.1875 8.296875 \r\nL 53.609375 8.296875 \r\nL 53.609375 0 \r\nL 7.328125 0 \r\nL 7.328125 8.296875 \r\nQ 12.9375 14.109375 22.625 23.890625 \r\nQ 32.328125 33.6875 34.8125 36.53125 \r\nQ 39.546875 41.84375 41.421875 45.53125 \r\nQ 43.3125 49.21875 43.3125 52.78125 \r\nQ 43.3125 58.59375 39.234375 62.25 \r\nQ 35.15625 65.921875 28.609375 65.921875 \r\nQ 23.96875 65.921875 18.8125 64.3125 \r\nQ 13.671875 62.703125 7.8125 59.421875 \r\nL 7.8125 69.390625 \r\nQ 13.765625 71.78125 18.9375 73 \r\nQ 24.125 74.21875 28.421875 74.21875 \r\nQ 39.75 74.21875 46.484375 68.546875 \r\nQ 53.21875 62.890625 53.21875 53.421875 \r\nQ 53.21875 48.921875 51.53125 44.890625 \r\nQ 49.859375 40.875 45.40625 35.40625 \r\nQ 44.1875 33.984375 37.640625 27.21875 \r\nQ 31.109375 20.453125 19.1875 8.296875 \r\nz\r\n\" id=\"DejaVuSans-50\"/>\r\n       </defs>\r\n       <use xlink:href=\"#DejaVuSans-8722\"/>\r\n       <use x=\"83.789062\" xlink:href=\"#DejaVuSans-48\"/>\r\n       <use x=\"147.412109\" xlink:href=\"#DejaVuSans-46\"/>\r\n       <use x=\"179.199219\" xlink:href=\"#DejaVuSans-50\"/>\r\n       <use x=\"242.822266\" xlink:href=\"#DejaVuSans-53\"/>\r\n      </g>\r\n     </g>\r\n    </g>\r\n    <g id=\"xtick_4\">\r\n     <g id=\"line2d_7\">\r\n      <path clip-path=\"url(#p7bc69b75e0)\" d=\"M 202.192455 233.407971 \r\nL 202.192455 15.967971 \r\n\" style=\"fill:none;stroke:#b0b0b0;stroke-linecap:square;stroke-width:0.8;\"/>\r\n     </g>\r\n     <g id=\"line2d_8\">\r\n      <g>\r\n       <use style=\"stroke:#000000;stroke-width:0.8;\" x=\"202.192455\" xlink:href=\"#m3898de27bd\" y=\"233.407971\"/>\r\n      </g>\r\n     </g>\r\n     <g id=\"text_4\">\r\n      <!-- 0.00 -->\r\n      <g transform=\"translate(191.059642 248.006409)scale(0.1 -0.1)\">\r\n       <use xlink:href=\"#DejaVuSans-48\"/>\r\n       <use x=\"63.623047\" xlink:href=\"#DejaVuSans-46\"/>\r\n       <use x=\"95.410156\" xlink:href=\"#DejaVuSans-48\"/>\r\n       <use x=\"159.033203\" xlink:href=\"#DejaVuSans-48\"/>\r\n      </g>\r\n     </g>\r\n    </g>\r\n    <g id=\"xtick_5\">\r\n     <g id=\"line2d_9\">\r\n      <path clip-path=\"url(#p7bc69b75e0)\" d=\"M 239.745168 233.407971 \r\nL 239.745168 15.967971 \r\n\" style=\"fill:none;stroke:#b0b0b0;stroke-linecap:square;stroke-width:0.8;\"/>\r\n     </g>\r\n     <g id=\"line2d_10\">\r\n      <g>\r\n       <use style=\"stroke:#000000;stroke-width:0.8;\" x=\"239.745168\" xlink:href=\"#m3898de27bd\" y=\"233.407971\"/>\r\n      </g>\r\n     </g>\r\n     <g id=\"text_5\">\r\n      <!-- 0.25 -->\r\n      <g transform=\"translate(228.612355 248.006409)scale(0.1 -0.1)\">\r\n       <use xlink:href=\"#DejaVuSans-48\"/>\r\n       <use x=\"63.623047\" xlink:href=\"#DejaVuSans-46\"/>\r\n       <use x=\"95.410156\" xlink:href=\"#DejaVuSans-50\"/>\r\n       <use x=\"159.033203\" xlink:href=\"#DejaVuSans-53\"/>\r\n      </g>\r\n     </g>\r\n    </g>\r\n    <g id=\"xtick_6\">\r\n     <g id=\"line2d_11\">\r\n      <path clip-path=\"url(#p7bc69b75e0)\" d=\"M 277.297881 233.407971 \r\nL 277.297881 15.967971 \r\n\" style=\"fill:none;stroke:#b0b0b0;stroke-linecap:square;stroke-width:0.8;\"/>\r\n     </g>\r\n     <g id=\"line2d_12\">\r\n      <g>\r\n       <use style=\"stroke:#000000;stroke-width:0.8;\" x=\"277.297881\" xlink:href=\"#m3898de27bd\" y=\"233.407971\"/>\r\n      </g>\r\n     </g>\r\n     <g id=\"text_6\">\r\n      <!-- 0.50 -->\r\n      <g transform=\"translate(266.165069 248.006409)scale(0.1 -0.1)\">\r\n       <use xlink:href=\"#DejaVuSans-48\"/>\r\n       <use x=\"63.623047\" xlink:href=\"#DejaVuSans-46\"/>\r\n       <use x=\"95.410156\" xlink:href=\"#DejaVuSans-53\"/>\r\n       <use x=\"159.033203\" xlink:href=\"#DejaVuSans-48\"/>\r\n      </g>\r\n     </g>\r\n    </g>\r\n    <g id=\"xtick_7\">\r\n     <g id=\"line2d_13\">\r\n      <path clip-path=\"url(#p7bc69b75e0)\" d=\"M 314.850594 233.407971 \r\nL 314.850594 15.967971 \r\n\" style=\"fill:none;stroke:#b0b0b0;stroke-linecap:square;stroke-width:0.8;\"/>\r\n     </g>\r\n     <g id=\"line2d_14\">\r\n      <g>\r\n       <use style=\"stroke:#000000;stroke-width:0.8;\" x=\"314.850594\" xlink:href=\"#m3898de27bd\" y=\"233.407971\"/>\r\n      </g>\r\n     </g>\r\n     <g id=\"text_7\">\r\n      <!-- 0.75 -->\r\n      <g transform=\"translate(303.717782 248.006409)scale(0.1 -0.1)\">\r\n       <use xlink:href=\"#DejaVuSans-48\"/>\r\n       <use x=\"63.623047\" xlink:href=\"#DejaVuSans-46\"/>\r\n       <use x=\"95.410156\" xlink:href=\"#DejaVuSans-55\"/>\r\n       <use x=\"159.033203\" xlink:href=\"#DejaVuSans-53\"/>\r\n      </g>\r\n     </g>\r\n    </g>\r\n    <g id=\"xtick_8\">\r\n     <g id=\"line2d_15\">\r\n      <path clip-path=\"url(#p7bc69b75e0)\" d=\"M 352.403308 233.407971 \r\nL 352.403308 15.967971 \r\n\" style=\"fill:none;stroke:#b0b0b0;stroke-linecap:square;stroke-width:0.8;\"/>\r\n     </g>\r\n     <g id=\"line2d_16\">\r\n      <g>\r\n       <use style=\"stroke:#000000;stroke-width:0.8;\" x=\"352.403308\" xlink:href=\"#m3898de27bd\" y=\"233.407971\"/>\r\n      </g>\r\n     </g>\r\n     <g id=\"text_8\">\r\n      <!-- 1.00 -->\r\n      <g transform=\"translate(341.270495 248.006409)scale(0.1 -0.1)\">\r\n       <defs>\r\n        <path d=\"M 12.40625 8.296875 \r\nL 28.515625 8.296875 \r\nL 28.515625 63.921875 \r\nL 10.984375 60.40625 \r\nL 10.984375 69.390625 \r\nL 28.421875 72.90625 \r\nL 38.28125 72.90625 \r\nL 38.28125 8.296875 \r\nL 54.390625 8.296875 \r\nL 54.390625 0 \r\nL 12.40625 0 \r\nz\r\n\" id=\"DejaVuSans-49\"/>\r\n       </defs>\r\n       <use xlink:href=\"#DejaVuSans-49\"/>\r\n       <use x=\"63.623047\" xlink:href=\"#DejaVuSans-46\"/>\r\n       <use x=\"95.410156\" xlink:href=\"#DejaVuSans-48\"/>\r\n       <use x=\"159.033203\" xlink:href=\"#DejaVuSans-48\"/>\r\n      </g>\r\n     </g>\r\n    </g>\r\n    <g id=\"text_9\">\r\n     <!-- PC1 -->\r\n     <g transform=\"translate(209.873438 261.684534)scale(0.1 -0.1)\">\r\n      <defs>\r\n       <path d=\"M 19.671875 64.796875 \r\nL 19.671875 37.40625 \r\nL 32.078125 37.40625 \r\nQ 38.96875 37.40625 42.71875 40.96875 \r\nQ 46.484375 44.53125 46.484375 51.125 \r\nQ 46.484375 57.671875 42.71875 61.234375 \r\nQ 38.96875 64.796875 32.078125 64.796875 \r\nz\r\nM 9.8125 72.90625 \r\nL 32.078125 72.90625 \r\nQ 44.34375 72.90625 50.609375 67.359375 \r\nQ 56.890625 61.8125 56.890625 51.125 \r\nQ 56.890625 40.328125 50.609375 34.8125 \r\nQ 44.34375 29.296875 32.078125 29.296875 \r\nL 19.671875 29.296875 \r\nL 19.671875 0 \r\nL 9.8125 0 \r\nz\r\n\" id=\"DejaVuSans-80\"/>\r\n       <path d=\"M 64.40625 67.28125 \r\nL 64.40625 56.890625 \r\nQ 59.421875 61.53125 53.78125 63.8125 \r\nQ 48.140625 66.109375 41.796875 66.109375 \r\nQ 29.296875 66.109375 22.65625 58.46875 \r\nQ 16.015625 50.828125 16.015625 36.375 \r\nQ 16.015625 21.96875 22.65625 14.328125 \r\nQ 29.296875 6.6875 41.796875 6.6875 \r\nQ 48.140625 6.6875 53.78125 8.984375 \r\nQ 59.421875 11.28125 64.40625 15.921875 \r\nL 64.40625 5.609375 \r\nQ 59.234375 2.09375 53.4375 0.328125 \r\nQ 47.65625 -1.421875 41.21875 -1.421875 \r\nQ 24.65625 -1.421875 15.125 8.703125 \r\nQ 5.609375 18.84375 5.609375 36.375 \r\nQ 5.609375 53.953125 15.125 64.078125 \r\nQ 24.65625 74.21875 41.21875 74.21875 \r\nQ 47.75 74.21875 53.53125 72.484375 \r\nQ 59.328125 70.75 64.40625 67.28125 \r\nz\r\n\" id=\"DejaVuSans-67\"/>\r\n      </defs>\r\n      <use xlink:href=\"#DejaVuSans-80\"/>\r\n      <use x=\"60.302734\" xlink:href=\"#DejaVuSans-67\"/>\r\n      <use x=\"130.126953\" xlink:href=\"#DejaVuSans-49\"/>\r\n     </g>\r\n    </g>\r\n   </g>\r\n   <g id=\"matplotlib.axis_2\">\r\n    <g id=\"ytick_1\">\r\n     <g id=\"line2d_17\">\r\n      <path clip-path=\"url(#p7bc69b75e0)\" d=\"M 52.160938 213.806497 \r\nL 386.960938 213.806497 \r\n\" style=\"fill:none;stroke:#b0b0b0;stroke-linecap:square;stroke-width:0.8;\"/>\r\n     </g>\r\n     <g id=\"line2d_18\">\r\n      <defs>\r\n       <path d=\"M 0 0 \r\nL -3.5 0 \r\n\" id=\"m0a46d4febf\" style=\"stroke:#000000;stroke-width:0.8;\"/>\r\n      </defs>\r\n      <g>\r\n       <use style=\"stroke:#000000;stroke-width:0.8;\" x=\"52.160938\" xlink:href=\"#m0a46d4febf\" y=\"213.806497\"/>\r\n      </g>\r\n     </g>\r\n     <g id=\"text_10\">\r\n      <!-- −0.6 -->\r\n      <g transform=\"translate(20.878125 217.605716)scale(0.1 -0.1)\">\r\n       <defs>\r\n        <path d=\"M 33.015625 40.375 \r\nQ 26.375 40.375 22.484375 35.828125 \r\nQ 18.609375 31.296875 18.609375 23.390625 \r\nQ 18.609375 15.53125 22.484375 10.953125 \r\nQ 26.375 6.390625 33.015625 6.390625 \r\nQ 39.65625 6.390625 43.53125 10.953125 \r\nQ 47.40625 15.53125 47.40625 23.390625 \r\nQ 47.40625 31.296875 43.53125 35.828125 \r\nQ 39.65625 40.375 33.015625 40.375 \r\nz\r\nM 52.59375 71.296875 \r\nL 52.59375 62.3125 \r\nQ 48.875 64.0625 45.09375 64.984375 \r\nQ 41.3125 65.921875 37.59375 65.921875 \r\nQ 27.828125 65.921875 22.671875 59.328125 \r\nQ 17.53125 52.734375 16.796875 39.40625 \r\nQ 19.671875 43.65625 24.015625 45.921875 \r\nQ 28.375 48.1875 33.59375 48.1875 \r\nQ 44.578125 48.1875 50.953125 41.515625 \r\nQ 57.328125 34.859375 57.328125 23.390625 \r\nQ 57.328125 12.15625 50.6875 5.359375 \r\nQ 44.046875 -1.421875 33.015625 -1.421875 \r\nQ 20.359375 -1.421875 13.671875 8.265625 \r\nQ 6.984375 17.96875 6.984375 36.375 \r\nQ 6.984375 53.65625 15.1875 63.9375 \r\nQ 23.390625 74.21875 37.203125 74.21875 \r\nQ 40.921875 74.21875 44.703125 73.484375 \r\nQ 48.484375 72.75 52.59375 71.296875 \r\nz\r\n\" id=\"DejaVuSans-54\"/>\r\n       </defs>\r\n       <use xlink:href=\"#DejaVuSans-8722\"/>\r\n       <use x=\"83.789062\" xlink:href=\"#DejaVuSans-48\"/>\r\n       <use x=\"147.412109\" xlink:href=\"#DejaVuSans-46\"/>\r\n       <use x=\"179.199219\" xlink:href=\"#DejaVuSans-54\"/>\r\n      </g>\r\n     </g>\r\n    </g>\r\n    <g id=\"ytick_2\">\r\n     <g id=\"line2d_19\">\r\n      <path clip-path=\"url(#p7bc69b75e0)\" d=\"M 52.160938 183.004089 \r\nL 386.960938 183.004089 \r\n\" style=\"fill:none;stroke:#b0b0b0;stroke-linecap:square;stroke-width:0.8;\"/>\r\n     </g>\r\n     <g id=\"line2d_20\">\r\n      <g>\r\n       <use style=\"stroke:#000000;stroke-width:0.8;\" x=\"52.160938\" xlink:href=\"#m0a46d4febf\" y=\"183.004089\"/>\r\n      </g>\r\n     </g>\r\n     <g id=\"text_11\">\r\n      <!-- −0.4 -->\r\n      <g transform=\"translate(20.878125 186.803308)scale(0.1 -0.1)\">\r\n       <defs>\r\n        <path d=\"M 37.796875 64.3125 \r\nL 12.890625 25.390625 \r\nL 37.796875 25.390625 \r\nz\r\nM 35.203125 72.90625 \r\nL 47.609375 72.90625 \r\nL 47.609375 25.390625 \r\nL 58.015625 25.390625 \r\nL 58.015625 17.1875 \r\nL 47.609375 17.1875 \r\nL 47.609375 0 \r\nL 37.796875 0 \r\nL 37.796875 17.1875 \r\nL 4.890625 17.1875 \r\nL 4.890625 26.703125 \r\nz\r\n\" id=\"DejaVuSans-52\"/>\r\n       </defs>\r\n       <use xlink:href=\"#DejaVuSans-8722\"/>\r\n       <use x=\"83.789062\" xlink:href=\"#DejaVuSans-48\"/>\r\n       <use x=\"147.412109\" xlink:href=\"#DejaVuSans-46\"/>\r\n       <use x=\"179.199219\" xlink:href=\"#DejaVuSans-52\"/>\r\n      </g>\r\n     </g>\r\n    </g>\r\n    <g id=\"ytick_3\">\r\n     <g id=\"line2d_21\">\r\n      <path clip-path=\"url(#p7bc69b75e0)\" d=\"M 52.160938 152.201682 \r\nL 386.960938 152.201682 \r\n\" style=\"fill:none;stroke:#b0b0b0;stroke-linecap:square;stroke-width:0.8;\"/>\r\n     </g>\r\n     <g id=\"line2d_22\">\r\n      <g>\r\n       <use style=\"stroke:#000000;stroke-width:0.8;\" x=\"52.160938\" xlink:href=\"#m0a46d4febf\" y=\"152.201682\"/>\r\n      </g>\r\n     </g>\r\n     <g id=\"text_12\">\r\n      <!-- −0.2 -->\r\n      <g transform=\"translate(20.878125 156.000901)scale(0.1 -0.1)\">\r\n       <use xlink:href=\"#DejaVuSans-8722\"/>\r\n       <use x=\"83.789062\" xlink:href=\"#DejaVuSans-48\"/>\r\n       <use x=\"147.412109\" xlink:href=\"#DejaVuSans-46\"/>\r\n       <use x=\"179.199219\" xlink:href=\"#DejaVuSans-50\"/>\r\n      </g>\r\n     </g>\r\n    </g>\r\n    <g id=\"ytick_4\">\r\n     <g id=\"line2d_23\">\r\n      <path clip-path=\"url(#p7bc69b75e0)\" d=\"M 52.160938 121.399274 \r\nL 386.960938 121.399274 \r\n\" style=\"fill:none;stroke:#b0b0b0;stroke-linecap:square;stroke-width:0.8;\"/>\r\n     </g>\r\n     <g id=\"line2d_24\">\r\n      <g>\r\n       <use style=\"stroke:#000000;stroke-width:0.8;\" x=\"52.160938\" xlink:href=\"#m0a46d4febf\" y=\"121.399274\"/>\r\n      </g>\r\n     </g>\r\n     <g id=\"text_13\">\r\n      <!-- 0.0 -->\r\n      <g transform=\"translate(29.257812 125.198493)scale(0.1 -0.1)\">\r\n       <use xlink:href=\"#DejaVuSans-48\"/>\r\n       <use x=\"63.623047\" xlink:href=\"#DejaVuSans-46\"/>\r\n       <use x=\"95.410156\" xlink:href=\"#DejaVuSans-48\"/>\r\n      </g>\r\n     </g>\r\n    </g>\r\n    <g id=\"ytick_5\">\r\n     <g id=\"line2d_25\">\r\n      <path clip-path=\"url(#p7bc69b75e0)\" d=\"M 52.160938 90.596866 \r\nL 386.960938 90.596866 \r\n\" style=\"fill:none;stroke:#b0b0b0;stroke-linecap:square;stroke-width:0.8;\"/>\r\n     </g>\r\n     <g id=\"line2d_26\">\r\n      <g>\r\n       <use style=\"stroke:#000000;stroke-width:0.8;\" x=\"52.160938\" xlink:href=\"#m0a46d4febf\" y=\"90.596866\"/>\r\n      </g>\r\n     </g>\r\n     <g id=\"text_14\">\r\n      <!-- 0.2 -->\r\n      <g transform=\"translate(29.257812 94.396085)scale(0.1 -0.1)\">\r\n       <use xlink:href=\"#DejaVuSans-48\"/>\r\n       <use x=\"63.623047\" xlink:href=\"#DejaVuSans-46\"/>\r\n       <use x=\"95.410156\" xlink:href=\"#DejaVuSans-50\"/>\r\n      </g>\r\n     </g>\r\n    </g>\r\n    <g id=\"ytick_6\">\r\n     <g id=\"line2d_27\">\r\n      <path clip-path=\"url(#p7bc69b75e0)\" d=\"M 52.160938 59.794459 \r\nL 386.960938 59.794459 \r\n\" style=\"fill:none;stroke:#b0b0b0;stroke-linecap:square;stroke-width:0.8;\"/>\r\n     </g>\r\n     <g id=\"line2d_28\">\r\n      <g>\r\n       <use style=\"stroke:#000000;stroke-width:0.8;\" x=\"52.160938\" xlink:href=\"#m0a46d4febf\" y=\"59.794459\"/>\r\n      </g>\r\n     </g>\r\n     <g id=\"text_15\">\r\n      <!-- 0.4 -->\r\n      <g transform=\"translate(29.257812 63.593678)scale(0.1 -0.1)\">\r\n       <use xlink:href=\"#DejaVuSans-48\"/>\r\n       <use x=\"63.623047\" xlink:href=\"#DejaVuSans-46\"/>\r\n       <use x=\"95.410156\" xlink:href=\"#DejaVuSans-52\"/>\r\n      </g>\r\n     </g>\r\n    </g>\r\n    <g id=\"ytick_7\">\r\n     <g id=\"line2d_29\">\r\n      <path clip-path=\"url(#p7bc69b75e0)\" d=\"M 52.160938 28.992051 \r\nL 386.960938 28.992051 \r\n\" style=\"fill:none;stroke:#b0b0b0;stroke-linecap:square;stroke-width:0.8;\"/>\r\n     </g>\r\n     <g id=\"line2d_30\">\r\n      <g>\r\n       <use style=\"stroke:#000000;stroke-width:0.8;\" x=\"52.160938\" xlink:href=\"#m0a46d4febf\" y=\"28.992051\"/>\r\n      </g>\r\n     </g>\r\n     <g id=\"text_16\">\r\n      <!-- 0.6 -->\r\n      <g transform=\"translate(29.257812 32.79127)scale(0.1 -0.1)\">\r\n       <use xlink:href=\"#DejaVuSans-48\"/>\r\n       <use x=\"63.623047\" xlink:href=\"#DejaVuSans-46\"/>\r\n       <use x=\"95.410156\" xlink:href=\"#DejaVuSans-54\"/>\r\n      </g>\r\n     </g>\r\n    </g>\r\n    <g id=\"text_17\">\r\n     <!-- PC2 -->\r\n     <g transform=\"translate(14.798438 134.375471)rotate(-90)scale(0.1 -0.1)\">\r\n      <use xlink:href=\"#DejaVuSans-80\"/>\r\n      <use x=\"60.302734\" xlink:href=\"#DejaVuSans-67\"/>\r\n      <use x=\"130.126953\" xlink:href=\"#DejaVuSans-50\"/>\r\n     </g>\r\n    </g>\r\n   </g>\r\n   <g id=\"patch_7\">\r\n    <path d=\"M 52.160938 233.407971 \r\nL 52.160938 15.967971 \r\n\" style=\"fill:none;stroke:#000000;stroke-linecap:square;stroke-linejoin:miter;stroke-width:0.8;\"/>\r\n   </g>\r\n   <g id=\"patch_8\">\r\n    <path d=\"M 386.960938 233.407971 \r\nL 386.960938 15.967971 \r\n\" style=\"fill:none;stroke:#000000;stroke-linecap:square;stroke-linejoin:miter;stroke-width:0.8;\"/>\r\n   </g>\r\n   <g id=\"patch_9\">\r\n    <path d=\"M 52.160937 233.407971 \r\nL 386.960938 233.407971 \r\n\" style=\"fill:none;stroke:#000000;stroke-linecap:square;stroke-linejoin:miter;stroke-width:0.8;\"/>\r\n   </g>\r\n   <g id=\"patch_10\">\r\n    <path d=\"M 52.160937 15.967971 \r\nL 386.960938 15.967971 \r\n\" style=\"fill:none;stroke:#000000;stroke-linecap:square;stroke-linejoin:miter;stroke-width:0.8;\"/>\r\n   </g>\r\n   <g id=\"text_18\">\r\n    <!-- Var1 -->\r\n    <g style=\"fill:#008000;\" transform=\"translate(314.91591 14.798437)scale(0.1 -0.1)\">\r\n     <defs>\r\n      <path d=\"M 28.609375 0 \r\nL 0.78125 72.90625 \r\nL 11.078125 72.90625 \r\nL 34.1875 11.53125 \r\nL 57.328125 72.90625 \r\nL 67.578125 72.90625 \r\nL 39.796875 0 \r\nz\r\n\" id=\"DejaVuSans-86\"/>\r\n      <path d=\"M 34.28125 27.484375 \r\nQ 23.390625 27.484375 19.1875 25 \r\nQ 14.984375 22.515625 14.984375 16.5 \r\nQ 14.984375 11.71875 18.140625 8.90625 \r\nQ 21.296875 6.109375 26.703125 6.109375 \r\nQ 34.1875 6.109375 38.703125 11.40625 \r\nQ 43.21875 16.703125 43.21875 25.484375 \r\nL 43.21875 27.484375 \r\nz\r\nM 52.203125 31.203125 \r\nL 52.203125 0 \r\nL 43.21875 0 \r\nL 43.21875 8.296875 \r\nQ 40.140625 3.328125 35.546875 0.953125 \r\nQ 30.953125 -1.421875 24.3125 -1.421875 \r\nQ 15.921875 -1.421875 10.953125 3.296875 \r\nQ 6 8.015625 6 15.921875 \r\nQ 6 25.140625 12.171875 29.828125 \r\nQ 18.359375 34.515625 30.609375 34.515625 \r\nL 43.21875 34.515625 \r\nL 43.21875 35.40625 \r\nQ 43.21875 41.609375 39.140625 45 \r\nQ 35.0625 48.390625 27.6875 48.390625 \r\nQ 23 48.390625 18.546875 47.265625 \r\nQ 14.109375 46.140625 10.015625 43.890625 \r\nL 10.015625 52.203125 \r\nQ 14.9375 54.109375 19.578125 55.046875 \r\nQ 24.21875 56 28.609375 56 \r\nQ 40.484375 56 46.34375 49.84375 \r\nQ 52.203125 43.703125 52.203125 31.203125 \r\nz\r\n\" id=\"DejaVuSans-97\"/>\r\n      <path d=\"M 41.109375 46.296875 \r\nQ 39.59375 47.171875 37.8125 47.578125 \r\nQ 36.03125 48 33.890625 48 \r\nQ 26.265625 48 22.1875 43.046875 \r\nQ 18.109375 38.09375 18.109375 28.8125 \r\nL 18.109375 0 \r\nL 9.078125 0 \r\nL 9.078125 54.6875 \r\nL 18.109375 54.6875 \r\nL 18.109375 46.1875 \r\nQ 20.953125 51.171875 25.484375 53.578125 \r\nQ 30.03125 56 36.53125 56 \r\nQ 37.453125 56 38.578125 55.875 \r\nQ 39.703125 55.765625 41.0625 55.515625 \r\nz\r\n\" id=\"DejaVuSans-114\"/>\r\n     </defs>\r\n     <use xlink:href=\"#DejaVuSans-86\"/>\r\n     <use x=\"60.658203\" xlink:href=\"#DejaVuSans-97\"/>\r\n     <use x=\"121.9375\" xlink:href=\"#DejaVuSans-114\"/>\r\n     <use x=\"163.050781\" xlink:href=\"#DejaVuSans-49\"/>\r\n    </g>\r\n   </g>\r\n   <g id=\"text_19\">\r\n    <!-- Var2 -->\r\n    <g style=\"fill:#008000;\" transform=\"translate(308.689527 241.048272)scale(0.1 -0.1)\">\r\n     <use xlink:href=\"#DejaVuSans-86\"/>\r\n     <use x=\"60.658203\" xlink:href=\"#DejaVuSans-97\"/>\r\n     <use x=\"121.9375\" xlink:href=\"#DejaVuSans-114\"/>\r\n     <use x=\"163.050781\" xlink:href=\"#DejaVuSans-50\"/>\r\n    </g>\r\n   </g>\r\n   <g id=\"text_20\">\r\n    <!-- Var3 -->\r\n    <g style=\"fill:#008000;\" transform=\"translate(204.896044 58.245526)scale(0.1 -0.1)\">\r\n     <defs>\r\n      <path d=\"M 40.578125 39.3125 \r\nQ 47.65625 37.796875 51.625 33 \r\nQ 55.609375 28.21875 55.609375 21.1875 \r\nQ 55.609375 10.40625 48.1875 4.484375 \r\nQ 40.765625 -1.421875 27.09375 -1.421875 \r\nQ 22.515625 -1.421875 17.65625 -0.515625 \r\nQ 12.796875 0.390625 7.625 2.203125 \r\nL 7.625 11.71875 \r\nQ 11.71875 9.328125 16.59375 8.109375 \r\nQ 21.484375 6.890625 26.8125 6.890625 \r\nQ 36.078125 6.890625 40.9375 10.546875 \r\nQ 45.796875 14.203125 45.796875 21.1875 \r\nQ 45.796875 27.640625 41.28125 31.265625 \r\nQ 36.765625 34.90625 28.71875 34.90625 \r\nL 20.21875 34.90625 \r\nL 20.21875 43.015625 \r\nL 29.109375 43.015625 \r\nQ 36.375 43.015625 40.234375 45.921875 \r\nQ 44.09375 48.828125 44.09375 54.296875 \r\nQ 44.09375 59.90625 40.109375 62.90625 \r\nQ 36.140625 65.921875 28.71875 65.921875 \r\nQ 24.65625 65.921875 20.015625 65.03125 \r\nQ 15.375 64.15625 9.8125 62.3125 \r\nL 9.8125 71.09375 \r\nQ 15.4375 72.65625 20.34375 73.4375 \r\nQ 25.25 74.21875 29.59375 74.21875 \r\nQ 40.828125 74.21875 47.359375 69.109375 \r\nQ 53.90625 64.015625 53.90625 55.328125 \r\nQ 53.90625 49.265625 50.4375 45.09375 \r\nQ 46.96875 40.921875 40.578125 39.3125 \r\nz\r\n\" id=\"DejaVuSans-51\"/>\r\n     </defs>\r\n     <use xlink:href=\"#DejaVuSans-86\"/>\r\n     <use x=\"60.658203\" xlink:href=\"#DejaVuSans-97\"/>\r\n     <use x=\"121.9375\" xlink:href=\"#DejaVuSans-114\"/>\r\n     <use x=\"163.050781\" xlink:href=\"#DejaVuSans-51\"/>\r\n    </g>\r\n   </g>\r\n   <g id=\"text_21\">\r\n    <!-- Var4 -->\r\n    <g style=\"fill:#008000;\" transform=\"translate(210.060552 161.601059)scale(0.1 -0.1)\">\r\n     <use xlink:href=\"#DejaVuSans-86\"/>\r\n     <use x=\"60.658203\" xlink:href=\"#DejaVuSans-97\"/>\r\n     <use x=\"121.9375\" xlink:href=\"#DejaVuSans-114\"/>\r\n     <use x=\"163.050781\" xlink:href=\"#DejaVuSans-52\"/>\r\n    </g>\r\n   </g>\r\n  </g>\r\n </g>\r\n <defs>\r\n  <clipPath id=\"p7bc69b75e0\">\r\n   <rect height=\"217.44\" width=\"334.8\" x=\"52.160938\" y=\"15.967971\"/>\r\n  </clipPath>\r\n </defs>\r\n</svg>\r\n",
      "image/png": "[encoded data removed]"
     },
     "metadata": {
      "needs_background": "light"
     }
    }
   ],
   "source": [
    "#not sure I did this right but sample code from stackexchange made something that kindof looks cool\n",
    "\n",
    "def myplot(score,coeff):\n",
    "    xs = score[:,0]\n",
    "    ys = score[:,1]\n",
    "    n = coeff.shape[0]\n",
    "\n",
    "    plt.scatter(xs ,ys) #without scaling\n",
    "    for i in range(n):\n",
    "        plt.arrow(0, 0, coeff[i,0], coeff[i,1])\n",
    "        plt.text(coeff[i,0]* 1.15, coeff[i,1] * 1.15, \"Var\"+str(i+1), color = 'g', ha = 'center', va = 'center')\n",
    "\n",
    "plt.xlabel(\"PC{}\".format(1))\n",
    "plt.ylabel(\"PC{}\".format(2))\n",
    "plt.grid()\n",
    "\n",
    "#Call the function. \n",
    "myplot(data_new[:,0:2], np.transpose(pca.components_[0:2,:])) \n",
    "plt.show()"
   ]
  },
  {
   "cell_type": "markdown",
   "metadata": {},
   "source": [
    "***Now save your output.  Go to File -> Print Preview and save your final output as a PDF.  Turn in to your Instructor, along with any additional sheets."
   ]
  }
 ],
 "metadata": {
  "kernelspec": {
   "name": "python_defaultSpec_1601941394859",
   "display_name": "Python 3.8.5 64-bit ('base': conda)",
   "metadata": {
    "interpreter": {
     "hash": "b3ba2566441a7c06988d0923437866b63cedc61552a5af99d1f4fb67d367b25f"
    }
   }
  },
  "language_info": {
   "codemirror_mode": {
    "name": "ipython",
    "version": 2
   },
   "file_extension": ".py",
   "mimetype": "text/x-python",
   "name": "python",
   "nbconvert_exporter": "python",
   "pygments_lexer": "ipython2",
   "version": "3.8.5-final"
  }
 },
 "nbformat": 4,
 "nbformat_minor": 2
}