{
 "cells": [
  {
   "cell_type": "code",
   "execution_count": 1,
   "metadata": {},
   "outputs": [],
   "source": [
    "import math\n"
   ]
  },
  {
   "cell_type": "code",
   "execution_count": 15,
   "metadata": {},
   "outputs": [
    {
     "name": "stdout",
     "output_type": "stream",
     "text": [
      "7.810249675906654\n"
     ]
    }
   ],
   "source": [
    "d = math.sqrt( (10-5)**2 + (12-6)**2 )\n",
    "print(d)"
   ]
  },
  {
   "cell_type": "code",
   "execution_count": 14,
   "metadata": {},
   "outputs": [
    {
     "name": "stdout",
     "output_type": "stream",
     "text": [
      "13.114877048604\n"
     ]
    }
   ],
   "source": [
    "d = math.sqrt( (10-2)**2 + (12-2)**2 + (5-7)**2 + (6-8)**2 )\n",
    "print(d)"
   ]
  },
  {
   "cell_type": "code",
   "execution_count": 13,
   "metadata": {},
   "outputs": [
    {
     "name": "stdout",
     "output_type": "stream",
     "text": [
      "13.114877048604\n"
     ]
    }
   ],
   "source": [
    "a1 = [10,12,5,6]\n",
    "a2 = [2,2,7,8]\n",
    "\n",
    "\n",
    "def calc_distance(a1, a2):\n",
    "    \n",
    "    assert len(a1) == len(a2)\n",
    "\n",
    "    d=0\n",
    "    for i in range(len(a1)):\n",
    "        d += (a1[i]-a2[i])**2\n",
    "    \n",
    "    d = math.sqrt(d)\n",
    "\n",
    "    print(d)\n",
    "    \n",
    "    return d\n"
   ]
  },
  {
   "cell_type": "code",
   "execution_count": null,
   "metadata": {},
   "outputs": [],
   "source": [
    "# Calculate the Centroids ~ Slide 21)\n",
    "def centroid(data):\n",
    "    '''\n",
    "    Requires a list of n dimensions where each dimesion is its own list\n",
    "    '''\n",
    "    centroids = []\n",
    "    for dat in data: \n",
    "        centroids.append(round(sum(dat)/len(dat),2))\n",
    "    \n",
    "    return centroids       "
   ]
  },
  {
   "cell_type": "code",
   "execution_count": null,
   "metadata": {},
   "outputs": [],
   "source": [
    "x3 = [1,3,5,9,1,0,10]\n",
    "y3 = [4,2,8,10,1,2,7]\n",
    "cent1 = [2,2]\n",
    "cent2 = [8,10]\n",
    "\n",
    "def k_m(xcoords, ycoords):\n",
    "    "
   ]
  }
 ],
 "metadata": {
  "kernelspec": {
   "display_name": "Python 3",
   "language": "python",
   "name": "python3"
  },
  "language_info": {
   "codemirror_mode": {
    "name": "ipython",
    "version": 3
   },
   "file_extension": ".py",
   "mimetype": "text/x-python",
   "name": "python",
   "nbconvert_exporter": "python",
   "pygments_lexer": "ipython3",
   "version": "3.8.3"
  }
 },
 "nbformat": 4,
 "nbformat_minor": 4
}
