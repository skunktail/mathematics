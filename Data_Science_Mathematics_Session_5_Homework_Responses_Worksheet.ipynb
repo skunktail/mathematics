{
 "cells": [
  {
   "cell_type": "markdown",
   "metadata": {},
   "source": [
    "MST 690 \u0013 Data Science Mathematics\t\t\t\tName: __________________\n",
    "Session 5 \u0013 Statistical Inference\n",
    "In-Class Exercise\n",
    "Instructions: Solve each problem.  Show all work.  Attach additional sheets as necessary.  Unless otherwise stated, you may use Python or other tools to assist.\n",
    "\n",
    "\tYou are a data scientist developing an algorithm for Russian event detection on Twitter, and are testing your algorithm using the 2018 Russian election as your test event.  You are interested in discursive similarity over time \u0013 the day-to-day similarity of discussion topics \u0013 within a target group of Twitter users.  You assume that, given the amount of \u001c",
    "noise\u001d",
    " on Twitter (e.g., the high variability of topics discussed on any ordinary day), your similarity metric will be near zero.  However, if a significant event occurs that becomes a hot topic of discussion, you hypothesize that your similarity metric will significantly increase for that given timeframe.  You have collected discursive similarity data that bracket the test event, and want to determine if an anomaly has occurred on the date of the Russian election, 18 March 2018.\n",
    "\n",
    "Consider the Excel data set on Blackboard.  You will solve this by hand, as well as using Python.  When solving by hand, you may use Excel to calculate any descriptive statistics.  To infer any statistically significant difference from a specified value, the t-statistic can be calculated as follows:\n",
    "\n",
    "t=(x \u0005-¼_0)/(sD\u001an)\n",
    "\n",
    "Where s is the sample standard deviation, µ0 is the specified value, n is the sample size, and x-bar is the sample mean.\n",
    "\n",
    "\tWhat is your null hypothesis?  Explain what rejection of the null hypothesis means in terms of statistical inference.\n"
   ]
  },
  {
   "cell_type": "markdown",
   "metadata": {},
   "source": [
    "_The null hypothesis is that a given day is a normal day; that is, that the similarity metric will be very low. The alternative would be that something big is going down, and then suddenly everyone will be talking about essentially the same thing, and the similarity metric will go up significantly._"
   ]
  },
  {
   "cell_type": "markdown",
   "metadata": {},
   "source": [
    "b)\tAre you able to detect an anomalous event on 18 March 2018, given the above data set, and assuming a type I error rate of 5%?  Explain why or why not."
   ]
  },
  {
   "cell_type": "markdown",
   "metadata": {},
   "source": [
    "_to analyze this we'll need to import the data and do some calculations \"by hand\" but using python_"
   ]
  },
  {
   "cell_type": "code",
   "execution_count": 23,
   "metadata": {},
   "outputs": [],
   "source": [
    "#import statements\n",
    "import math\n",
    "import pandas as pd\n"
   ]
  },
  {
   "cell_type": "code",
   "execution_count": 25,
   "metadata": {},
   "outputs": [],
   "source": [
    "# bring in the dataset\n",
    "dataset = r'./Dataset_Session5.csv' #Specify absolute path here.\n",
    "data = pd.read_csv(dataset)\n",
    "data_series = np.array(list(data['Similarity Metric (0.00-1.00)']))\n"
   ]
  },
  {
   "cell_type": "code",
   "execution_count": 26,
   "metadata": {},
   "outputs": [
    {
     "name": "stdout",
     "output_type": "stream",
     "text": [
      "m =  0.07577999999999999\n"
     ]
    }
   ],
   "source": [
    "# calculate mean\n",
    "m=0.0\n",
    "n = len(data_series)\n",
    "for i in range(n):\n",
    "    m += data_series[i] \n",
    "m /= n\n",
    "print(\"m = \", m)"
   ]
  },
  {
   "cell_type": "code",
   "execution_count": 27,
   "metadata": {},
   "outputs": [
    {
     "name": "stdout",
     "output_type": "stream",
     "text": [
      "sigma =  0.1464141523214201\n"
     ]
    }
   ],
   "source": [
    "# calculate std dev using the 'sample' stddev [use n-1]\n",
    "sigma=0.0\n",
    "for d in data_series:\n",
    "    sigma += (d - m)**2\n",
    "sigma /= (n-1)\n",
    "sigma = math.sqrt(sigma)\n",
    "print(\"sigma = \", sigma)"
   ]
  },
  {
   "cell_type": "code",
   "execution_count": 56,
   "metadata": {},
   "outputs": [
    {
     "name": "stdout",
     "output_type": "stream",
     "text": [
      "0.8965\n"
     ]
    }
   ],
   "source": [
    "# now let's get the data value based on the date of interest\n",
    "date_of_interest = '18-Mar-18'\n",
    "\n",
    "value_of_interest = data.loc[data['Date'] == date_of_interest]['Similarity Metric (0.00-1.00)'].iloc[0]\n",
    "#print(data)\n",
    "print(value_of_interest)"
   ]
  },
  {
   "cell_type": "code",
   "execution_count": 66,
   "metadata": {},
   "outputs": [
    {
     "name": "stdout",
     "output_type": "stream",
     "text": [
      "-43.41977659265283\n"
     ]
    }
   ],
   "source": [
    "# now use the student t test\n",
    "# we'll model value_of_interest as ybar\n",
    "t_numerator = m - value_of_interest \n",
    "t_denominator = math.sqrt( (sigma**2/n) + (0**2/1) )\n",
    "t = t_numerator / t_denominator\n",
    "print(t)"
   ]
  },
  {
   "cell_type": "code",
   "execution_count": 67,
   "metadata": {},
   "outputs": [
    {
     "name": "stdout",
     "output_type": "stream",
     "text": [
      "59\n"
     ]
    }
   ],
   "source": [
    "# degrees of freedom\n",
    "df = n + 1 - 2\n",
    "print(df)"
   ]
  },
  {
   "cell_type": "markdown",
   "metadata": {},
   "source": [
    "*Looking at any p value tables out there, 43 will be way beyond any critical value at 59 degrees of freedom (in this case, about 2.0), not just at the 5% level, but at any measurable level. Thus, the null hypothesis is rejected.*\n"
   ]
  },
  {
   "cell_type": "markdown",
   "metadata": {},
   "source": [
    "c)\tFind the p-value using Python (see Python notebook for this exercise).  Do you reject your hypothesis based on the calculated p-value?"
   ]
  },
  {
   "cell_type": "code",
   "execution_count": 69,
   "metadata": {},
   "outputs": [
    {
     "name": "stdout",
     "output_type": "stream",
     "text": [
      "Python computes the t and p values as: -43.41977659265283, 1.749492641970814e-46\n"
     ]
    }
   ],
   "source": [
    "python_t, python_p = stats.ttest_1samp(data_series, value_of_interest, axis=0)\n",
    "print(\"Python computes the t and p values as: {}, {}\".format(python_t, python_p))"
   ]
  },
  {
   "cell_type": "markdown",
   "metadata": {},
   "source": [
    "_So again, looking at the python results, we easily reject the null hypothesis. 1.75e-46 is super small - way smaller than 5e-2._"
   ]
  },
  {
   "cell_type": "markdown",
   "metadata": {},
   "source": [
    "d)\tCalculate by hand again assuming a type I error rate of 1%.  What happens to the critical value of t?  Intuitively, why is this the case?  Does this change impact your conclusion?"
   ]
  },
  {
   "cell_type": "code",
   "execution_count": 84,
   "metadata": {},
   "outputs": [
    {
     "data": {
      "text/plain": [
       "Text(0.5, 1.0, 'Histogram of the provided data')"
      ]
     },
     "execution_count": 84,
     "metadata": {},
     "output_type": "execute_result"
    },
    {
     "data": {
      "image/png": "[encoded data removed]",
      "text/plain": [
       "<Figure size 720x720 with 1 Axes>"
      ]
     },
     "metadata": {},
     "output_type": "display_data"
    }
   ],
   "source": [
    "# finally, again as a crazy check to see intuitively if we're doing this right, it helps\n",
    "# to do a quick histogram of the incidence rate of similarity values, which will help us intuitively see if \n",
    "# something seems close to the normal curve or lies discernibly outside of it.\n",
    "\n",
    "import matplotlib.pyplot as plt\n",
    "%matplotlib inline\n",
    "\n",
    "plt.style.use('ggplot')\n",
    "bins = 50\n",
    "fig_norm, ax0 = plt.subplots(figsize=(10,10))\n",
    "(values, bins, _) = ax0.hist(data_series, bins = bins, density=True) \n",
    "bin_centers = 0.5*(bins[1:] + bins[:-1])\n",
    "ax0.set_title('Histogram of the provided data')"
   ]
  },
  {
   "cell_type": "code",
   "execution_count": 85,
   "metadata": {},
   "outputs": [],
   "source": [
    "# we can see that 0.89 will be way far away from the bulk of the data which is concentrated over at the left"
   ]
  },
  {
   "cell_type": "code",
   "execution_count": null,
   "metadata": {},
   "outputs": [],
   "source": []
  }
 ],
 "metadata": {
  "kernelspec": {
   "display_name": "Python 3",
   "language": "python",
   "name": "python3"
  },
  "language_info": {
   "codemirror_mode": {
    "name": "ipython",
    "version": 3
   },
   "file_extension": ".py",
   "mimetype": "text/x-python",
   "name": "python",
   "nbconvert_exporter": "python",
   "pygments_lexer": "ipython3",
   "version": "3.8.3"
  }
 },
 "nbformat": 4,
 "nbformat_minor": 4
}
